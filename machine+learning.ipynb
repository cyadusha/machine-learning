{
 "cells": [
  {
   "cell_type": "code",
   "execution_count": 2,
   "metadata": {
    "collapsed": true
   },
   "outputs": [],
   "source": [
    "from sklearn.ensemble import RandomForestClassifier\n",
    "import numpy as np\n",
    "from pytz import timezone\n",
    "from scipy import stats\n",
    "\n",
    "trading_freq = 10 #10 days trading frequency\n",
    "\n",
    "def initialize(context):\n",
    "    context.stocks = [sid(32907), sid(3597), sid(19465), sid(8554)] # Set securities\n",
    "    context.classifier = RandomForestClassifier() # Use a random forest classifier\n",
    "    #replace every value in the array except the last one with 1.\n",
    "    context.prediction = np.ones_like(context.stocks[0:-1]) \n",
    "    \n",
    "    context.day_count = -1\n",
    "    context.allocation = -np.ones_like(context.stocks[0:-1])"
   ]
  },
  {
   "cell_type": "code",
   "execution_count": 3,
   "metadata": {
    "collapsed": true
   },
   "outputs": [],
   "source": [
    "def handle_data(context, data):\n",
    "    #Trade only once per day\n",
    "    loc_dt = get_datetime().astimezone(timezone('US/Eastern'))\n",
    "    if loc_dt.hour == 16 and loc_dt.minute == 0:\n",
    "        context.day_count += 1\n",
    "        pass\n",
    "    else:\n",
    "        return\n",
    "    \n",
    "    #Limit trading frequency\n",
    "    if context.day_count % trading_freq != 0.0:\n",
    "        return\n",
    "    \n",
    "    prices = history(400,'1d','price').as_matrix(context.stocks)\n",
    "    #converts prices matrix to z-scores with 1 degree of freedom\n",
    "    changes_all = stats.zscore(prices, axis=0, ddof=1) \n",
    "    #z-score difference for each sector fund and the underlying benchmark SPY\n",
    "    changes = changes_all[:,0:-1] - np.tile(changes_all[:,-1],(len(context.stocks)-1,1)).T \n",
    "    changes = changes > 0\n",
    "    \n",
    "    for k in range(len(context.stocks)-1):\n",
    "        X = np.split(changes[:,k],20)\n",
    "        Y = X[-1]\n",
    "        \n",
    "        context.classifier.fit(X,Y) #generate model\n",
    "        \n",
    "        context.prediction[k] = context.classifier.predict(Y)\n",
    "        \n",
    "    allocation = context.prediction.astype(float) #set the prediction values to float type\n",
    "    denom = np.sum(allocation) #sum the prediction values.\n",
    "    \n",
    "    if denom != 0.0:\n",
    "        #if the sum is not zero divide each prediction value by the sum of the prediction values.\n",
    "        allocation = allocation/np.sum(allocation)\n",
    "        \n",
    "    if np.array_equal(context.allocation,allocation):\n",
    "        return    \n",
    "    \n",
    "    context.allocation = allocation\n",
    "    record(num_secs = np.count_nonzero(allocation))\n",
    "    \n",
    "  \n",
    "    \n",
    "    for stock, percent in zip(context.stocks[0:-1], allocation):\n",
    "        order_target_percent(stock, percent)\n",
    "    "
   ]
  },
  {
   "cell_type": "code",
   "execution_count": null,
   "metadata": {
    "collapsed": true
   },
   "outputs": [],
   "source": []
  }
 ],
 "metadata": {
  "kernelspec": {
   "display_name": "Python 2",
   "language": "python",
   "name": "python2"
  },
  "language_info": {
   "codemirror_mode": {
    "name": "ipython",
    "version": 2
   },
   "file_extension": ".py",
   "mimetype": "text/x-python",
   "name": "python",
   "nbconvert_exporter": "python",
   "pygments_lexer": "ipython2",
   "version": "2.7.12"
  }
 },
 "nbformat": 4,
 "nbformat_minor": 2
}