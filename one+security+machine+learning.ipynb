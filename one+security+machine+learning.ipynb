{
 "cells": [
  {
   "cell_type": "code",
   "execution_count": null,
   "metadata": {
    "collapsed": true
   },
   "outputs": [],
   "source": [
    "from sklearn.ensemble import RandomForestClassifier\n",
    "from collections import deque\n",
    "import numpy as np\n",
    "\n",
    "def initialize(context):\n",
    "    context.security = sid(22613) # set the security to Mitsubishi\n",
    "    context.window_length = 10 # number of bars or edges in a single decision tree\n",
    "   \n",
    "    context.classifier = RandomForestClassifier() \n",
    "    \n",
    "    context.recent_prices = deque(maxlen=context.window_length + 2)\n",
    "    #context.recent_value = deque(maxlen=context.window_length + 2)\n",
    "    context.X = deque(maxlen=500) # Independent, or input variables\n",
    "    context.Y = deque(maxlen=500) # Dependent, or output variable\n",
    "    \n",
    "    context.prediction = 0\n",
    "    \n",
    "def handle_data(context, data):\n",
    "    context.recent_prices.append(data[context.security].price)\n",
    "    #context.recent_value.append([data.current(context.security, 'price')])\n",
    "    if len(context.recent_prices) == context.window_length + 2: # If there's enough recent price data\n",
    "        changes = np.diff(context.recent_prices) > 0\n",
    "        values = np.array(context.recent_prices).flatten()\n",
    "        context.X.append(values[:-1])\n",
    "        context.Y.append(changes[-1]) # Add dependent variable, the final change\n",
    "        \n",
    "        if len(context.Y) >= 200: # There needs to be enough data points to make a good model\n",
    "            \n",
    "            context.classifier.fit(context.X, context.Y) # Generate the model\n",
    "            \n",
    "            context.prediction = context.classifier.predict(values[1:]) # Predict\n",
    "            \n",
    "            # If prediction = 1, buy all shares affordable, if 0 sell all shares\n",
    "            order_target_percent(context.security, context.prediction)\n",
    "                \n",
    "            record(prediction=int(context.prediction))"
   ]
  }
 ],
 "metadata": {
  "kernelspec": {
   "display_name": "Python 2",
   "language": "python",
   "name": "python2"
  },
  "language_info": {
   "codemirror_mode": {
    "name": "ipython",
    "version": 2
   },
   "file_extension": ".py",
   "mimetype": "text/x-python",
   "name": "python",
   "nbconvert_exporter": "python",
   "pygments_lexer": "ipython2",
   "version": "2.7.12"
  }
 },
 "nbformat": 4,
 "nbformat_minor": 2
}